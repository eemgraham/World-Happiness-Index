{
  "nbformat": 4,
  "nbformat_minor": 0,
  "metadata": {
    "colab": {
      "provenance": [],
      "authorship_tag": "ABX9TyNc2GkKBJCDvtexn2c5JpZP",
      "include_colab_link": true
    },
    "kernelspec": {
      "name": "python3",
      "display_name": "Python 3"
    },
    "language_info": {
      "name": "python"
    }
  },
  "cells": [
    {
      "cell_type": "markdown",
      "metadata": {
        "id": "view-in-github",
        "colab_type": "text"
      },
      "source": [
        "<a href=\"https://colab.research.google.com/github/eemgraham/World-Happiness-Index/blob/main/World_Happiness_Index.ipynb\" target=\"_parent\"><img src=\"https://colab.research.google.com/assets/colab-badge.svg\" alt=\"Open In Colab\"/></a>"
      ]
    },
    {
      "cell_type": "code",
      "execution_count": 3,
      "metadata": {
        "id": "K1jeP3NQsy-Y"
      },
      "outputs": [],
      "source": [
        "import pandas as pd\n",
        "df = pd.read_excel(\"WHI_Inflation.xlsx\")"
      ]
    },
    {
      "cell_type": "code",
      "source": [
        "# Show the 10 highest happiness scores\n",
        "top_10 = df.nlargest(10, 'Score')\n",
        "print(top_10[['Country', 'Score', 'Year']])\n"
      ],
      "metadata": {
        "colab": {
          "base_uri": "https://localhost:8080/"
        },
        "id": "AUWRdoi-s91g",
        "outputId": "58dffea8-0eaa-4cb6-8ae1-da605532729c"
      },
      "execution_count": 30,
      "outputs": [
        {
          "output_type": "stream",
          "name": "stdout",
          "text": [
            "     Country   Score  Year\n",
            "360  Finland  7.8420  2021\n",
            "361  Finland  7.8210  2022\n",
            "359  Finland  7.8087  2020\n",
            "362  Finland  7.8040  2023\n",
            "358  Finland  7.7690  2019\n",
            "304  Denmark  7.6456  2020\n",
            "306  Denmark  7.6360  2022\n",
            "357  Finland  7.6320  2018\n",
            "305  Denmark  7.6200  2021\n",
            "303  Denmark  7.6000  2019\n"
          ]
        }
      ]
    },
    {
      "cell_type": "code",
      "source": [
        "# Show the 10 highest scores by individual country\n",
        "df_sorted = df.sort_values(by='Score', ascending=False)\n",
        "df_unique = df_sorted.drop_duplicates(subset='Country', keep='first')\n",
        "top_10_unique = df_unique.nlargest(10, 'Score')\n",
        "print(top_10_unique[['Country', 'Score', 'Year']])"
      ],
      "metadata": {
        "colab": {
          "base_uri": "https://localhost:8080/"
        },
        "id": "-wMiFVyKwPRN",
        "outputId": "0229d3cf-b533-4559-ebb9-273548a2a8b4"
      },
      "execution_count": 5,
      "outputs": [
        {
          "output_type": "stream",
          "name": "stdout",
          "text": [
            "          Country   Score  Year\n",
            "360       Finland  7.8420  2021\n",
            "304       Denmark  7.6456  2020\n",
            "846        Norway  7.5940  2018\n",
            "1057  Switzerland  7.5870  2015\n",
            "460       Iceland  7.5610  2015\n",
            "793   Netherlands  7.4880  2019\n",
            "513        Israel  7.4730  2023\n",
            "206        Canada  7.4270  2015\n",
            "643    Luxembourg  7.4040  2022\n",
            "1056       Sweden  7.3950  2023\n"
          ]
        }
      ]
    },
    {
      "cell_type": "code",
      "source": [
        "# Show the 10 lowest scores by inidividual country\n",
        "bottom_10_unique = df_unique.nsmallest(10, 'Score')\n",
        "print(bottom_10_unique[['Country', 'Score', 'Year']])"
      ],
      "metadata": {
        "colab": {
          "base_uri": "https://localhost:8080/"
        },
        "id": "LHDyM_UATP7p",
        "outputId": "38ac9a05-294d-4296-f4fd-5f308f4a687d"
      },
      "execution_count": 26,
      "outputs": [
        {
          "output_type": "stream",
          "name": "stdout",
          "text": [
            "                       Country   Score  Year\n",
            "932                     Rwanda  3.5150  2016\n",
            "215   Central African Republic  3.6780  2015\n",
            "186                    Burundi  3.7753  2020\n",
            "1084                  Tanzania  3.7810  2015\n",
            "2                  Afghanistan  3.7940  2017\n",
            "1015               South Sudan  3.8320  2016\n",
            "27                      Angola  4.0330  2015\n",
            "1107                      Togo  4.1872  2020\n",
            "654                     Malawi  4.2920  2015\n",
            "145                   Botswana  4.3320  2015\n"
          ]
        }
      ]
    },
    {
      "cell_type": "code",
      "source": [
        "# Show the average happiness score by country\n",
        "# Group by 'Country' and calculate the mean of 'Score'\n",
        "average_scores = df.groupby('Country')['Score'].mean().reset_index()\n",
        "\n",
        "# Rename column for clarity\n",
        "average_scores.rename(columns={'Score': 'Average_Score'}, inplace=True)\n",
        "\n",
        "# Sort by average score descending (optional)\n",
        "average_scores = average_scores.sort_values(by='Average_Score', ascending=False)\n",
        "\n",
        "print(average_scores)"
      ],
      "metadata": {
        "colab": {
          "base_uri": "https://localhost:8080/"
        },
        "id": "dS3BhuFpxI2w",
        "outputId": "3f4b3553-c2b9-4ee1-b78f-abc41519d876"
      },
      "execution_count": 6,
      "outputs": [
        {
          "output_type": "stream",
          "name": "stdout",
          "text": [
            "                      Country  Average_Score\n",
            "43                    Finland       7.662744\n",
            "36                    Denmark       7.579733\n",
            "55                    Iceland       7.522278\n",
            "128               Switzerland       7.493322\n",
            "99                     Norway       7.473889\n",
            "..                        ...            ...\n",
            "111                    Rwanda       3.398537\n",
            "22                    Burundi       3.277900\n",
            "121               South Sudan       3.269320\n",
            "26   Central African Republic       3.202580\n",
            "0                 Afghanistan       2.990767\n",
            "\n",
            "[148 rows x 2 columns]\n"
          ]
        }
      ]
    },
    {
      "cell_type": "code",
      "source": [
        "# Handling Missing Data\n",
        "df.dropna(inplace=True)\n",
        "df.dropna(axis=1, inplace=True)"
      ],
      "metadata": {
        "id": "8eBKln94Mi5P"
      },
      "execution_count": null,
      "outputs": []
    },
    {
      "cell_type": "code",
      "source": [
        "# Fill missing values with the string \"Unknown\"\n",
        "df_filled = df.fillna(\"Unknown\")\n",
        "print(df_filled)\n"
      ],
      "metadata": {
        "id": "9PTjhJERM-gN"
      },
      "execution_count": null,
      "outputs": []
    },
    {
      "cell_type": "code",
      "source": [
        "features = ['GDP per Capita', 'Energy Consumer Price Inflation', 'Headline Consumer Price Inflation', 'Food Consumer Price Inflation', 'Official Core Consumer Price Inflation',  'Producer Price Inflation', 'GDP deflator Index growth rate', 'Social support',  'Healthy life expectancy at birth', 'Freedom to make life choices', 'Generosity', 'Perceptions of corruption']\n",
        "\n",
        "# Create a new DataFrame with just 'Score' and selected features\n",
        "selected_df = df[['Score'] + features]\n",
        "\n",
        "# Compute Kendall correlation matrix\n",
        "kendall_corr = selected_df.corr(method='kendall')\n",
        "\n",
        "# Show only correlation of each feature with 'Score'\n",
        "score_corr = kendall_corr['Score'].drop('Score')  # Remove self-correlation\n",
        "\n",
        "print(score_corr)\n"
      ],
      "metadata": {
        "colab": {
          "base_uri": "https://localhost:8080/"
        },
        "id": "Qm2GHosfNUda",
        "outputId": "f6bfb1db-3e70-4de9-a6a1-41a5db2bc4fd"
      },
      "execution_count": 17,
      "outputs": [
        {
          "output_type": "stream",
          "name": "stdout",
          "text": [
            "GDP per Capita                            0.457281\n",
            "Energy Consumer Price Inflation           0.001570\n",
            "Headline Consumer Price Inflation        -0.122084\n",
            "Food Consumer Price Inflation            -0.108560\n",
            "Official Core Consumer Price Inflation   -0.102624\n",
            "Producer Price Inflation                 -0.054706\n",
            "GDP deflator Index growth rate           -0.108862\n",
            "Social support                            0.332178\n",
            "Healthy life expectancy at birth          0.320444\n",
            "Freedom to make life choices              0.437479\n",
            "Generosity                                0.297574\n",
            "Perceptions of corruption                 0.477289\n",
            "Name: Score, dtype: float64\n"
          ]
        }
      ]
    },
    {
      "cell_type": "code",
      "source": [
        "average_col1 = df['Perceptions of corruption'].mean()\n",
        "print(average_col1)"
      ],
      "metadata": {
        "colab": {
          "base_uri": "https://localhost:8080/"
        },
        "id": "BXSd3NdpQ96l",
        "outputId": "3fe50d5e-839c-4e48-d4f9-67ddf23d0f0d"
      },
      "execution_count": 18,
      "outputs": [
        {
          "output_type": "stream",
          "name": "stdout",
          "text": [
            "0.1604232795625\n"
          ]
        }
      ]
    },
    {
      "cell_type": "code",
      "source": [
        "print(top_10_unique[['Country', 'Score', 'Year', 'Perceptions of corruption']])"
      ],
      "metadata": {
        "colab": {
          "base_uri": "https://localhost:8080/"
        },
        "id": "5XRvf-_LRJuQ",
        "outputId": "6401f697-3c6b-4aef-ecac-81e292dcffdd"
      },
      "execution_count": 19,
      "outputs": [
        {
          "output_type": "stream",
          "name": "stdout",
          "text": [
            "          Country   Score  Year  Perceptions of corruption\n",
            "360       Finland  7.8420  2021                    0.48100\n",
            "304       Denmark  7.6456  2020                    0.49526\n",
            "846        Norway  7.5940  2018                    0.34000\n",
            "1057  Switzerland  7.5870  2015                    0.41978\n",
            "460       Iceland  7.5610  2015                    0.14145\n",
            "793   Netherlands  7.4880  2019                    0.29800\n",
            "513        Israel  7.4730  2023                    0.15800\n",
            "206        Canada  7.4270  2015                    0.32957\n",
            "643    Luxembourg  7.4040  2022                    0.38800\n",
            "1056       Sweden  7.3950  2023                    0.52000\n"
          ]
        }
      ]
    },
    {
      "cell_type": "code",
      "source": [
        "print(bottom_10_unique[['Country', 'Score', 'Year', 'Perceptions of corruption']])"
      ],
      "metadata": {
        "colab": {
          "base_uri": "https://localhost:8080/"
        },
        "id": "U82NKpvzTeP_",
        "outputId": "09c980a2-c459-4541-c7c1-1c7603e935c4"
      },
      "execution_count": 27,
      "outputs": [
        {
          "output_type": "stream",
          "name": "stdout",
          "text": [
            "                       Country   Score  Year  Perceptions of corruption\n",
            "932                     Rwanda  3.5150  2016                   0.505210\n",
            "215   Central African Republic  3.6780  2015                   0.082890\n",
            "186                    Burundi  3.7753  2020                   0.212187\n",
            "1084                  Tanzania  3.7810  2015                   0.057470\n",
            "2                  Afghanistan  3.7940  2017                   0.061158\n",
            "1015               South Sudan  3.8320  2016                   0.130150\n",
            "27                      Angola  4.0330  2015                   0.071220\n",
            "1107                      Togo  4.1872  2020                   0.114826\n",
            "654                     Malawi  4.2920  2015                   0.069770\n",
            "145                   Botswana  4.3320  2015                   0.124740\n"
          ]
        }
      ]
    },
    {
      "cell_type": "code",
      "source": [
        "average_col2 = df['GDP per Capita'].mean()\n",
        "print(average_col2)"
      ],
      "metadata": {
        "colab": {
          "base_uri": "https://localhost:8080/"
        },
        "id": "c2rXWBzRSGku",
        "outputId": "cef3ad11-9bcd-44d9-f51f-da0dd516fae6"
      },
      "execution_count": 21,
      "outputs": [
        {
          "output_type": "stream",
          "name": "stdout",
          "text": [
            "1.2681768250815972\n"
          ]
        }
      ]
    },
    {
      "cell_type": "code",
      "source": [
        "print(top_10_unique[['Country', 'Score', 'Year', 'GDP per Capita']])"
      ],
      "metadata": {
        "colab": {
          "base_uri": "https://localhost:8080/"
        },
        "id": "-bU11kRASV53",
        "outputId": "95bad018-9b2f-4eeb-c4cb-e40918a92779"
      },
      "execution_count": 23,
      "outputs": [
        {
          "output_type": "stream",
          "name": "stdout",
          "text": [
            "          Country   Score  Year  GDP per Capita\n",
            "360       Finland  7.8420  2021        1.446000\n",
            "304       Denmark  7.6456  2020        1.326949\n",
            "846        Norway  7.5940  2018        1.456000\n",
            "1057  Switzerland  7.5870  2015        1.396510\n",
            "460       Iceland  7.5610  2015        1.302320\n",
            "793   Netherlands  7.4880  2019        1.396000\n",
            "513        Israel  7.4730  2023        1.833000\n",
            "206        Canada  7.4270  2015        1.326290\n",
            "643    Luxembourg  7.4040  2022        2.209000\n",
            "1056       Sweden  7.3950  2023        1.921000\n"
          ]
        }
      ]
    },
    {
      "cell_type": "code",
      "source": [
        "print(bottom_10_unique[['Country', 'Score', 'Year', 'GDP per Capita']])"
      ],
      "metadata": {
        "colab": {
          "base_uri": "https://localhost:8080/"
        },
        "id": "g8_wiU_rTr_D",
        "outputId": "f2c05bfb-a83c-4871-ba8b-bfff43cce70a"
      },
      "execution_count": 28,
      "outputs": [
        {
          "output_type": "stream",
          "name": "stdout",
          "text": [
            "                       Country   Score  Year  GDP per Capita\n",
            "932                     Rwanda  3.5150  2016        0.328460\n",
            "215   Central African Republic  3.6780  2015        0.078500\n",
            "186                    Burundi  3.7753  2020        0.000000\n",
            "1084                  Tanzania  3.7810  2015        0.285200\n",
            "2                  Afghanistan  3.7940  2017        0.401477\n",
            "1015               South Sudan  3.8320  2016        0.393940\n",
            "27                      Angola  4.0330  2015        0.757780\n",
            "1107                      Togo  4.1872  2020        0.268116\n",
            "654                     Malawi  4.2920  2015        0.016040\n",
            "145                   Botswana  4.3320  2015        0.993550\n"
          ]
        }
      ]
    },
    {
      "cell_type": "code",
      "source": [
        "average_col3 = df['Freedom to make life choices'].mean()\n",
        "print(average_col3)"
      ],
      "metadata": {
        "colab": {
          "base_uri": "https://localhost:8080/"
        },
        "id": "hoUN34-OScy1",
        "outputId": "b2233e6f-050c-41ed-bd38-e63f9cedebec"
      },
      "execution_count": 24,
      "outputs": [
        {
          "output_type": "stream",
          "name": "stdout",
          "text": [
            "0.49858169161979166\n"
          ]
        }
      ]
    },
    {
      "cell_type": "code",
      "source": [
        "print(top_10_unique[['Country', 'Score', 'Year', 'Freedom to make life choices']])"
      ],
      "metadata": {
        "colab": {
          "base_uri": "https://localhost:8080/"
        },
        "id": "EKZkRoZHSp9-",
        "outputId": "385b1b2d-6b5e-481f-ebca-e958da2c3a40"
      },
      "execution_count": 25,
      "outputs": [
        {
          "output_type": "stream",
          "name": "stdout",
          "text": [
            "          Country   Score  Year  Freedom to make life choices\n",
            "360       Finland  7.8420  2021                       0.69100\n",
            "304       Denmark  7.6456  2020                       0.66504\n",
            "846        Norway  7.5940  2018                       0.68600\n",
            "1057  Switzerland  7.5870  2015                       0.66557\n",
            "460       Iceland  7.5610  2015                       0.62877\n",
            "793   Netherlands  7.4880  2019                       0.55700\n",
            "513        Israel  7.4730  2023                       0.56900\n",
            "206        Canada  7.4270  2015                       0.63297\n",
            "643    Luxembourg  7.4040  2022                       0.70000\n",
            "1056       Sweden  7.3950  2023                       0.75400\n"
          ]
        }
      ]
    },
    {
      "cell_type": "code",
      "source": [
        "print(bottom_10_unique[['Country', 'Score', 'Year', 'Freedom to make life choices']])"
      ],
      "metadata": {
        "colab": {
          "base_uri": "https://localhost:8080/"
        },
        "id": "txTqY8DvT082",
        "outputId": "77b65b26-79fb-47f1-a628-0eb388b97804"
      },
      "execution_count": 29,
      "outputs": [
        {
          "output_type": "stream",
          "name": "stdout",
          "text": [
            "                       Country   Score  Year  Freedom to make life choices\n",
            "932                     Rwanda  3.5150  2016                      0.543200\n",
            "215   Central African Republic  3.6780  2015                      0.488790\n",
            "186                    Burundi  3.7753  2020                      0.275399\n",
            "1084                  Tanzania  3.7810  2015                      0.328780\n",
            "2                  Afghanistan  3.7940  2017                      0.106180\n",
            "1015               South Sudan  3.8320  2016                      0.196620\n",
            "27                      Angola  4.0330  2015                      0.103840\n",
            "1107                      Togo  4.1872  2020                      0.303539\n",
            "654                     Malawi  4.2920  2015                      0.430540\n",
            "145                   Botswana  4.3320  2015                      0.494950\n"
          ]
        }
      ]
    }
  ]
}