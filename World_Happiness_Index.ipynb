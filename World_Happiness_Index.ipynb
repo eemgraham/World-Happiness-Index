{
  "nbformat": 4,
  "nbformat_minor": 0,
  "metadata": {
    "colab": {
      "provenance": [],
      "authorship_tag": "ABX9TyMiM+gmIyAqmKnBOIXhQ2ID",
      "include_colab_link": true
    },
    "kernelspec": {
      "name": "python3",
      "display_name": "Python 3"
    },
    "language_info": {
      "name": "python"
    }
  },
  "cells": [
    {
      "cell_type": "markdown",
      "metadata": {
        "id": "view-in-github",
        "colab_type": "text"
      },
      "source": [
        "<a href=\"https://colab.research.google.com/github/eemgraham/World-Happiness-Index-Analysis/blob/main/World_Happiness_Index.ipynb\" target=\"_parent\"><img src=\"https://colab.research.google.com/assets/colab-badge.svg\" alt=\"Open In Colab\"/></a>"
      ]
    },
    {
      "cell_type": "code",
      "execution_count": 2,
      "metadata": {
        "id": "K1jeP3NQsy-Y"
      },
      "outputs": [],
      "source": [
        "import pandas as pd\n",
        "df = pd.read_excel(\"WHI_Inflation.xlsx\")"
      ]
    },
    {
      "cell_type": "code",
      "source": [
        "# Show the 10 highest happiness scores\n",
        "top_10 = df.nlargest(10, 'Score')\n",
        "print(top_10[['Country', 'Score', 'Year']])\n"
      ],
      "metadata": {
        "colab": {
          "base_uri": "https://localhost:8080/"
        },
        "id": "AUWRdoi-s91g",
        "outputId": "a9b5dfd1-b14c-46bd-a6ca-a27c94af9a00"
      },
      "execution_count": null,
      "outputs": [
        {
          "output_type": "stream",
          "name": "stdout",
          "text": [
            "     Country   Score  Year\n",
            "360  Finland  7.8420  2021\n",
            "361  Finland  7.8210  2022\n",
            "359  Finland  7.8087  2020\n",
            "362  Finland  7.8040  2023\n",
            "358  Finland  7.7690  2019\n",
            "304  Denmark  7.6456  2020\n",
            "306  Denmark  7.6360  2022\n",
            "357  Finland  7.6320  2018\n",
            "305  Denmark  7.6200  2021\n",
            "303  Denmark  7.6000  2019\n"
          ]
        }
      ]
    },
    {
      "cell_type": "code",
      "source": [
        "# Show the 10 highest scores by individual country\n",
        "df_sorted = df.sort_values(by='Score', ascending=False)\n",
        "df_unique = df_sorted.drop_duplicates(subset='Country', keep='first')\n",
        "top_10_unique = df_unique.nlargest(10, 'Score')\n",
        "print(top_10_unique[['Country', 'Score', 'Year']])"
      ],
      "metadata": {
        "colab": {
          "base_uri": "https://localhost:8080/"
        },
        "id": "-wMiFVyKwPRN",
        "outputId": "28a216a7-416e-4e0e-ec81-4f4cd8eed3de"
      },
      "execution_count": null,
      "outputs": [
        {
          "output_type": "stream",
          "name": "stdout",
          "text": [
            "          Country   Score  Year\n",
            "360       Finland  7.8420  2021\n",
            "304       Denmark  7.6456  2020\n",
            "846        Norway  7.5940  2018\n",
            "1057  Switzerland  7.5870  2015\n",
            "460       Iceland  7.5610  2015\n",
            "793   Netherlands  7.4880  2019\n",
            "513        Israel  7.4730  2023\n",
            "206        Canada  7.4270  2015\n",
            "643    Luxembourg  7.4040  2022\n",
            "1055       Sweden  7.3840  2022\n"
          ]
        }
      ]
    },
    {
      "cell_type": "code",
      "source": [
        "# Show the 10 lowest scores by inidividual country\n",
        "bottom_10_unique = df_unique.nsmallest(10, 'Score')\n",
        "print(bottom_10_unique[['Country', 'Score', 'Year']])"
      ],
      "metadata": {
        "colab": {
          "base_uri": "https://localhost:8080/"
        },
        "id": "LHDyM_UATP7p",
        "outputId": "519edc47-ee81-413e-eb51-4e9a6c0a8ff9"
      },
      "execution_count": null,
      "outputs": [
        {
          "output_type": "stream",
          "name": "stdout",
          "text": [
            "           Country  Score  Year\n",
            "1032     Sri Lanka  4.471  2018\n",
            "469          India  4.565  2015\n",
            "1148        Uganda  4.636  2021\n",
            "402          Ghana  4.657  2018\n",
            "1118       Tunisia  5.045  2016\n",
            "1158       Ukraine  5.084  2022\n",
            "954        Senegal  5.132  2021\n",
            "1013  South Africa  5.194  2022\n",
            "1078    Tajikistan  5.199  2018\n",
            "16         Albania  5.199  2022\n"
          ]
        }
      ]
    },
    {
      "cell_type": "code",
      "source": [
        "# Show the average happiness score by country\n",
        "# Group by 'Country' and calculate the mean of 'Score'\n",
        "average_scores = df.groupby('Country')['Score'].mean().reset_index()\n",
        "\n",
        "# Rename column for clarity\n",
        "average_scores.rename(columns={'Score': 'Average_Score'}, inplace=True)\n",
        "\n",
        "# Sort by average score descending (optional)\n",
        "average_scores = average_scores.sort_values(by='Average_Score', ascending=False)\n",
        "\n",
        "print(average_scores)"
      ],
      "metadata": {
        "colab": {
          "base_uri": "https://localhost:8080/"
        },
        "id": "dS3BhuFpxI2w",
        "outputId": "dad0d296-c120-4253-9c39-8aa3615c5841"
      },
      "execution_count": null,
      "outputs": [
        {
          "output_type": "stream",
          "name": "stdout",
          "text": [
            "                      Country  Average_Score\n",
            "43                    Finland       7.662744\n",
            "36                    Denmark       7.579733\n",
            "55                    Iceland       7.522278\n",
            "128               Switzerland       7.493322\n",
            "99                     Norway       7.473889\n",
            "..                        ...            ...\n",
            "111                    Rwanda       3.398537\n",
            "22                    Burundi       3.277900\n",
            "121               South Sudan       3.269320\n",
            "26   Central African Republic       3.202580\n",
            "0                 Afghanistan       2.990767\n",
            "\n",
            "[148 rows x 2 columns]\n"
          ]
        }
      ]
    },
    {
      "cell_type": "code",
      "source": [
        "# Handling Missing Data\n",
        "df.dropna(inplace=True)\n",
        "df.dropna(axis=1, inplace=True)"
      ],
      "metadata": {
        "id": "8eBKln94Mi5P"
      },
      "execution_count": null,
      "outputs": []
    },
    {
      "cell_type": "code",
      "source": [
        "# Fill missing values with the string \"Unknown\"\n",
        "df_filled = df.fillna(\"Unknown\")\n",
        "print(df_filled)\n"
      ],
      "metadata": {
        "id": "9PTjhJERM-gN",
        "colab": {
          "base_uri": "https://localhost:8080/"
        },
        "outputId": "97c501f5-cc1b-4943-b40c-56c5738a8866"
      },
      "execution_count": null,
      "outputs": [
        {
          "output_type": "stream",
          "name": "stdout",
          "text": [
            "            Country  Year  Headline Consumer Price Inflation  \\\n",
            "10          Albania  2016                           1.291234   \n",
            "11          Albania  2017                           1.987000   \n",
            "12          Albania  2018                           2.030000   \n",
            "13          Albania  2019                           1.411000   \n",
            "14          Albania  2020                           1.620887   \n",
            "...             ...   ...                                ...   \n",
            "1186  United States  2023                           4.116338   \n",
            "1187        Uruguay  2015                           8.668153   \n",
            "1188        Uruguay  2016                           9.633797   \n",
            "1205        Vietnam  2015                           0.644182   \n",
            "1206        Vietnam  2016                           2.680397   \n",
            "\n",
            "      Energy Consumer Price Inflation  Food Consumer Price Inflation  \\\n",
            "10                           0.040000                       3.249188   \n",
            "11                           1.000000                       3.905430   \n",
            "12                           2.800000                       2.671432   \n",
            "13                           0.689010                       2.911938   \n",
            "14                           1.420089                       3.607454   \n",
            "...                               ...                            ...   \n",
            "1186                        -4.543734                       4.944298   \n",
            "1187                         2.077982                       9.474143   \n",
            "1188                         2.483893                       9.622087   \n",
            "1205                        -1.618696                       1.478333   \n",
            "1206                         2.402760                       2.608930   \n",
            "\n",
            "      Official Core Consumer Price Inflation  Producer Price Inflation  \\\n",
            "10                                  0.151382                 -1.613304   \n",
            "11                                  0.819713                  2.842246   \n",
            "12                                  0.928374                  1.602622   \n",
            "13                                  0.735378                 -0.796721   \n",
            "14                                  1.411406                 -3.432639   \n",
            "...                                      ...                       ...   \n",
            "1186                                4.781926                  2.744211   \n",
            "1187                              -12.823760                  6.833480   \n",
            "1188                              -10.994176                  3.351947   \n",
            "1205                                2.050000                 -0.585894   \n",
            "1206                                1.830000                 -0.612014   \n",
            "\n",
            "      GDP deflator Index growth rate             Continent/Region   Score  \\\n",
            "10                         -0.632405   Central and Eastern Europe  4.6550   \n",
            "11                          1.450936   Central and Eastern Europe  4.6440   \n",
            "12                          1.359464   Central and Eastern Europe  4.5860   \n",
            "13                          0.363417   Central and Eastern Europe  4.7190   \n",
            "14                          1.413396   Central and Eastern Europe  4.8827   \n",
            "...                              ...                          ...     ...   \n",
            "1186                        3.650892        North America and ANZ  6.8940   \n",
            "1187                        9.015482  Latin America and Caribbean  6.4850   \n",
            "1188                        7.345664  Latin America and Caribbean  6.5450   \n",
            "1205                       -1.716137               Southeast Asia  5.3600   \n",
            "1206                        1.819451               Southeast Asia  5.0610   \n",
            "\n",
            "      GDP per Capita  Social support  Healthy life expectancy at birth  \\\n",
            "10          0.955300        0.501630                           0.73007   \n",
            "11          0.996193        0.803685                           0.73116   \n",
            "12          0.916000        0.817000                           0.79000   \n",
            "13          0.947000        0.848000                           0.87400   \n",
            "14          0.906653        0.830484                           0.84633   \n",
            "...              ...             ...                               ...   \n",
            "1186        1.980000        1.460000                           0.39000   \n",
            "1187        1.061660        1.208900                           0.81160   \n",
            "1188        1.181570        1.031430                           0.72183   \n",
            "1205        0.632160        0.912260                           0.74676   \n",
            "1206        0.740370        0.791170                           0.66157   \n",
            "\n",
            "      Freedom to make life choices  Generosity  Perceptions of corruption  \n",
            "10                        0.318660    0.168400                   0.053010  \n",
            "11                        0.381499    0.201313                   0.039864  \n",
            "12                        0.419000    0.149000                   0.032000  \n",
            "13                        0.383000    0.178000                   0.027000  \n",
            "14                        0.461946    0.171028                   0.025361  \n",
            "...                            ...         ...                        ...  \n",
            "1186                      0.557000    0.210000                   0.172000  \n",
            "1187                      0.603620    0.232400                   0.245580  \n",
            "1188                      0.543880    0.180560                   0.213940  \n",
            "1205                      0.594440    0.168600                   0.104410  \n",
            "1206                      0.559540    0.250750                   0.115560  \n",
            "\n",
            "[576 rows x 16 columns]\n"
          ]
        }
      ]
    },
    {
      "cell_type": "code",
      "source": [
        "features = ['GDP per Capita', 'Energy Consumer Price Inflation', 'Headline Consumer Price Inflation', 'Food Consumer Price Inflation', 'Official Core Consumer Price Inflation',  'Producer Price Inflation', 'GDP deflator Index growth rate', 'Social support',  'Healthy life expectancy at birth', 'Freedom to make life choices', 'Generosity', 'Perceptions of corruption']\n",
        "\n",
        "# Create a new DataFrame with just 'Score' and selected features\n",
        "selected_df = df[['Score'] + features]\n",
        "\n",
        "# Compute Spearman correlation matrix\n",
        "spearman_corr = selected_df.corr(method='spearman')\n",
        "\n",
        "# Extract Spearman correlation values with 'Score' only\n",
        "score_corr = spearman_corr['Score'].drop('Score')  # Drop self-correlation\n",
        "\n",
        "# Display the results\n",
        "print(score_corr.sort_values(ascending=False))"
      ],
      "metadata": {
        "colab": {
          "base_uri": "https://localhost:8080/"
        },
        "id": "Qm2GHosfNUda",
        "outputId": "fcedce75-9d24-498d-b627-6914204e4fa0"
      },
      "execution_count": null,
      "outputs": [
        {
          "output_type": "stream",
          "name": "stdout",
          "text": [
            "Perceptions of corruption                 0.669251\n",
            "GDP per Capita                            0.648032\n",
            "Freedom to make life choices              0.617513\n",
            "Social support                            0.474632\n",
            "Healthy life expectancy at birth          0.472856\n",
            "Generosity                                0.446789\n",
            "Energy Consumer Price Inflation           0.005524\n",
            "Producer Price Inflation                 -0.081287\n",
            "Official Core Consumer Price Inflation   -0.158736\n",
            "GDP deflator Index growth rate           -0.161198\n",
            "Food Consumer Price Inflation            -0.161990\n",
            "Headline Consumer Price Inflation        -0.183083\n",
            "Name: Score, dtype: float64\n"
          ]
        }
      ]
    },
    {
      "cell_type": "code",
      "source": [
        "# Select only numeric columns\n",
        "numeric_df = df.select_dtypes(include=['number'])\n",
        "# Compute Spearman correlation matrix\n",
        "corr_matrix = numeric_df.corr(method='spearman')\n",
        "#Extract & sort correlation with Score\n",
        "score_corr = corr_matrix['Score'].drop('Score')  # Remove self-correlation\n",
        "score_corr = score_corr.sort_values(ascending=False)  # Sort descending\n",
        "#Plot smaller heatmap\n",
        "import matplotlib.pyplot as plt\n",
        "import seaborn as sns\n",
        "\n",
        "plt.figure(figsize=(8, 6))\n",
        "sns.heatmap(score_corr.to_frame(), annot=True, cmap='YlGnBu', cbar=False, fmt=\".2f\", linewidths=0.5)\n",
        "\n",
        "plt.title(\"Correlation of Features with Happiness Score\", fontsize=14)\n",
        "plt.xlabel(\"Spearman Correlation\", fontsize=12)\n",
        "plt.tight_layout()\n",
        "plt.show()"
      ],
      "metadata": {
        "colab": {
          "base_uri": "https://localhost:8080/",
          "height": 607
        },
        "id": "JIihr67l-elI",
        "outputId": "03ed7736-a9bd-4a7e-faaa-d6a01f4b2f03"
      },
      "execution_count": null,
      "outputs": [
        {
          "output_type": "display_data",
          "data": {
            "text/plain": [
              "<Figure size 800x600 with 1 Axes>"
            ],
            "image/png": "[encoded data removed]"
          },
          "metadata": {}
        }
      ]
    },
    {
      "cell_type": "code",
      "source": [
        "import os\n",
        "os.makedirs('images', exist_ok=True)  # Create folder\n",
        "\n",
        "plt.savefig('images/score_correlation_heatmap.png', dpi=300, bbox_inches='tight')"
      ],
      "metadata": {
        "colab": {
          "base_uri": "https://localhost:8080/",
          "height": 34
        },
        "id": "bgmP9JqVAHQU",
        "outputId": "a56f4fa0-b7ba-4c1b-ceb2-6da979d76692"
      },
      "execution_count": null,
      "outputs": [
        {
          "output_type": "display_data",
          "data": {
            "text/plain": [
              "<Figure size 640x480 with 0 Axes>"
            ]
          },
          "metadata": {}
        }
      ]
    },
    {
      "cell_type": "code",
      "source": [
        "print(top_10_unique[['Country', 'Score', 'Year', 'Perceptions of corruption']])"
      ],
      "metadata": {
        "colab": {
          "base_uri": "https://localhost:8080/"
        },
        "id": "5XRvf-_LRJuQ",
        "outputId": "843b9ed4-337e-4fe6-d449-f78e9c9661ed"
      },
      "execution_count": null,
      "outputs": [
        {
          "output_type": "stream",
          "name": "stdout",
          "text": [
            "          Country   Score  Year  Perceptions of corruption\n",
            "360       Finland  7.8420  2021                    0.48100\n",
            "304       Denmark  7.6456  2020                    0.49526\n",
            "846        Norway  7.5940  2018                    0.34000\n",
            "1057  Switzerland  7.5870  2015                    0.41978\n",
            "460       Iceland  7.5610  2015                    0.14145\n",
            "793   Netherlands  7.4880  2019                    0.29800\n",
            "513        Israel  7.4730  2023                    0.15800\n",
            "206        Canada  7.4270  2015                    0.32957\n",
            "643    Luxembourg  7.4040  2022                    0.38800\n",
            "1055       Sweden  7.3840  2022                    0.51200\n"
          ]
        }
      ]
    },
    {
      "cell_type": "code",
      "source": [
        "print(bottom_10_unique[['Country', 'Score', 'Year', 'Perceptions of corruption']])"
      ],
      "metadata": {
        "colab": {
          "base_uri": "https://localhost:8080/"
        },
        "id": "U82NKpvzTeP_",
        "outputId": "cf2b2571-fd52-494d-db8b-f85acbe51281"
      },
      "execution_count": null,
      "outputs": [
        {
          "output_type": "stream",
          "name": "stdout",
          "text": [
            "           Country  Score  Year  Perceptions of corruption\n",
            "1032     Sri Lanka  4.471  2018                    0.05000\n",
            "469          India  4.565  2015                    0.08492\n",
            "1148        Uganda  4.636  2021                    0.05400\n",
            "402          Ghana  4.657  2018                    0.02900\n",
            "1118       Tunisia  5.045  2016                    0.08170\n",
            "1158       Ukraine  5.084  2022                    0.01700\n",
            "954        Senegal  5.132  2021                    0.08800\n",
            "1013  South Africa  5.194  2022                    0.04600\n",
            "1078    Tajikistan  5.199  2018                    0.03400\n",
            "16         Albania  5.199  2022                    0.02800\n"
          ]
        }
      ]
    },
    {
      "cell_type": "code",
      "source": [
        "average_col2 = df['GDP per Capita'].mean()\n",
        "print(average_col2)"
      ],
      "metadata": {
        "id": "c2rXWBzRSGku"
      },
      "execution_count": null,
      "outputs": []
    },
    {
      "cell_type": "code",
      "source": [
        "print(top_10_unique[['Country', 'Score', 'Year', 'GDP per Capita']])"
      ],
      "metadata": {
        "id": "-bU11kRASV53"
      },
      "execution_count": null,
      "outputs": []
    },
    {
      "cell_type": "code",
      "source": [
        "print(bottom_10_unique[['Country', 'Score', 'Year', 'GDP per Capita']])"
      ],
      "metadata": {
        "id": "g8_wiU_rTr_D"
      },
      "execution_count": null,
      "outputs": []
    },
    {
      "cell_type": "code",
      "source": [
        "average_col3 = df['Freedom to make life choices'].mean()\n",
        "print(average_col3)"
      ],
      "metadata": {
        "id": "hoUN34-OScy1"
      },
      "execution_count": null,
      "outputs": []
    },
    {
      "cell_type": "code",
      "source": [
        "print(top_10_unique[['Country', 'Score', 'Year', 'Freedom to make life choices']])"
      ],
      "metadata": {
        "id": "EKZkRoZHSp9-"
      },
      "execution_count": null,
      "outputs": []
    },
    {
      "cell_type": "code",
      "source": [
        "print(bottom_10_unique[['Country', 'Score', 'Year', 'Freedom to make life choices']])"
      ],
      "metadata": {
        "id": "txTqY8DvT082"
      },
      "execution_count": null,
      "outputs": []
    }
  ]
}